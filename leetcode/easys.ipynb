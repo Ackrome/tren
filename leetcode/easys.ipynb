{
 "cells": [
  {
   "cell_type": "markdown",
   "id": "64cdc4e4",
   "metadata": {},
   "source": [
    "# 9"
   ]
  },
  {
   "cell_type": "code",
   "execution_count": 6,
   "id": "13df255d",
   "metadata": {},
   "outputs": [],
   "source": [
    "class Solution:\n",
    "    def isPalindrome(self, x: int) -> bool:\n",
    "        return str(x) == str(x)[::-1]"
   ]
  },
  {
   "cell_type": "code",
   "execution_count": null,
   "id": "06ca8eb1",
   "metadata": {},
   "outputs": [
    {
     "data": {
      "text/plain": [
       "False"
      ]
     },
     "execution_count": 5,
     "metadata": {},
     "output_type": "execute_result"
    }
   ],
   "source": [
    "class Solution:\n",
    "    def isPalindrome(self, x: int) -> bool:\n",
    "        arr = []\n",
    "        if x<0:\n",
    "            return False\n",
    "        while x != 0:\n",
    "            arr.append(x % 10)\n",
    "            x //= 10\n",
    "            \n",
    "        return arr == arr[::-1]\n",
    "    \n",
    "Solution().isPalindrome(-121)"
   ]
  },
  {
   "cell_type": "markdown",
   "id": "83ae8fe6",
   "metadata": {},
   "source": [
    "# 28"
   ]
  },
  {
   "cell_type": "code",
   "execution_count": 4,
   "id": "09dd9c0b",
   "metadata": {},
   "outputs": [
    {
     "data": {
      "text/plain": [
       "-1"
      ]
     },
     "execution_count": 4,
     "metadata": {},
     "output_type": "execute_result"
    }
   ],
   "source": [
    "class Solution:\n",
    "    def strStr(self, haystack: str, needle: str) -> int:\n",
    "        return haystack.find(needle)\n",
    "haystack = \"leetcode\"\n",
    "needle = \"leeto\"\n",
    "Solution().strStr(haystack,needle)"
   ]
  },
  {
   "cell_type": "markdown",
   "id": "00720335",
   "metadata": {},
   "source": [
    "# 206"
   ]
  },
  {
   "cell_type": "code",
   "execution_count": 22,
   "id": "b2ce1adc",
   "metadata": {},
   "outputs": [
    {
     "name": "stdout",
     "output_type": "stream",
     "text": [
      "5\n",
      "4\n",
      "3\n",
      "2\n",
      "1\n"
     ]
    }
   ],
   "source": [
    "from typing import Optional\n",
    "class ListNode:\n",
    "    def __init__(self, val=0, next=None):\n",
    "        self.val = val\n",
    "        self.next = next\n",
    "        \n",
    "class Solution:\n",
    "    def reverseList(self, head: Optional[ListNode]) -> Optional[ListNode]:\n",
    "        uns = None\n",
    "        while head:\n",
    "            temporary = head.next\n",
    "            head.next = uns\n",
    "            uns = head\n",
    "            head = temporary\n",
    "        \n",
    "        return uns\n",
    "\n",
    "head = ListNode(5)\n",
    "for i in [4,3,2,1]:\n",
    "    head = ListNode(val = i, next = head)\n",
    "\n",
    "    \n",
    "uns = Solution().reverseList(head)\n",
    "\n",
    "while uns:\n",
    "    print(uns.val)\n",
    "    uns = uns.next"
   ]
  },
  {
   "cell_type": "markdown",
   "id": "1f0f7e1f",
   "metadata": {},
   "source": [
    "# 1550"
   ]
  },
  {
   "cell_type": "code",
   "execution_count": 5,
   "id": "9b491556",
   "metadata": {},
   "outputs": [],
   "source": [
    "from typing import List\n",
    "class Solution:\n",
    "    def threeConsecutiveOdds(self, arr: List[int]) -> bool:\n",
    "        is_odd = 0\n",
    "        \n",
    "        for i in arr:\n",
    "            if i%2 == 1:\n",
    "                is_odd +=1\n",
    "            elif i%2 == 0:\n",
    "                is_odd = 0\n",
    "            \n",
    "            if is_odd==3:\n",
    "                return True\n",
    "        \n",
    "        return False\n",
    "\n",
    "assert Solution().threeConsecutiveOdds([2,6,4,1]) == False\n",
    "assert Solution().threeConsecutiveOdds([1,2,34,3,4,5,7,23,12]) == True"
   ]
  },
  {
   "cell_type": "markdown",
   "id": "f7ac4274",
   "metadata": {},
   "source": [
    "# 2094"
   ]
  },
  {
   "cell_type": "code",
   "execution_count": 83,
   "id": "ba17c226",
   "metadata": {},
   "outputs": [],
   "source": [
    "from typing import List\n",
    "class Solution:\n",
    "    def findEvenNumbers(self, digits: List[int]) -> List[int]:\n",
    "        uns = set()\n",
    "        evens = set([i for i in digits if i%2==0])\n",
    "    \n",
    "        n = len(digits)\n",
    "        \n",
    "        for i in evens:\n",
    "            digits.remove(i)\n",
    "            to_add = []\n",
    "            \n",
    "            \n",
    "            for j in range(n-1):\n",
    "                if digits[j] == 0:\n",
    "                    continue\n",
    "                for k in range(n-1):\n",
    "                    if k!=j:\n",
    "                        uns.add(digits[j]*100+digits[k]*10+i)\n",
    "\n",
    "            \n",
    "            digits.append(i)\n",
    "        \n",
    "        return sorted(uns) \n",
    "    \n",
    "assert Solution().findEvenNumbers([2,1,3,0]) == [102,120,130,132,210,230,302,310,312,320]\n",
    "assert Solution().findEvenNumbers([2,2,8,8,2]) == [222,228,282,288,822,828,882]\n",
    "assert Solution().findEvenNumbers([3,7,5]) == []"
   ]
  },
  {
   "cell_type": "markdown",
   "id": "06abbede",
   "metadata": {},
   "source": [
    "# 13"
   ]
  },
  {
   "cell_type": "code",
   "execution_count": 14,
   "id": "4aa81c71",
   "metadata": {},
   "outputs": [],
   "source": [
    "class Solution:\n",
    "    def romanToInt(self, s: str) -> int:\n",
    "        \n",
    "        n = len(s)\n",
    "        perevodict = {'I': 1, 'V': 5, 'X': 10, 'L': 50, 'C': 100, 'D': 500, 'M': 1000}\n",
    "        res = 0\n",
    "        \n",
    "        for i in range(n-1):\n",
    "            cur = perevodict[s[i]] if perevodict[s[i]]>=perevodict[s[i+1]] else -perevodict[s[i]]\n",
    "            res += cur\n",
    "        \n",
    "        \n",
    "        return res + perevodict[s[-1]]\n",
    "    \n",
    "assert Solution().romanToInt('III') == 3\n",
    "assert Solution().romanToInt(\"MCMXCIV\") == 1994\n",
    "assert Solution().romanToInt(\"LVIII\") == 58"
   ]
  },
  {
   "cell_type": "markdown",
   "id": "ebcfba04",
   "metadata": {},
   "source": [
    "# 14"
   ]
  },
  {
   "cell_type": "code",
   "execution_count": null,
   "id": "623288cf",
   "metadata": {},
   "outputs": [],
   "source": [
    "from typing import List\n",
    "class Solution:\n",
    "    def longestCommonPrefix(self, strs: List[str]) -> str:\n",
    "        n = min(strs, key = len)\n",
    "        cur = ''\n",
    "        if len(strs) == 1:\n",
    "            return strs[0]\n",
    "        \n",
    "        for i in n:\n",
    "            \n",
    "            if not all([j.startswith(cur + i) for j in strs]):\n",
    "                \n",
    "                return cur\n",
    "            else:\n",
    "                cur +=i\n",
    "                \n",
    "        return cur \n",
    "            \n",
    "            \n",
    "assert Solution().longestCommonPrefix([\"flower\",\"flow\",\"flight\"]) == \"fl\"\n",
    "assert Solution().longestCommonPrefix([\"dog\",\"racecar\",\"car\"]) == \"\"\n",
    "assert Solution().longestCommonPrefix([\"\"]) == \"\"\n",
    "assert Solution().longestCommonPrefix([\"a\"]) == 'a'\n",
    "assert Solution().longestCommonPrefix([\"ab\", \"a\"]) == \"a\""
   ]
  }
 ],
 "metadata": {
  "kernelspec": {
   "display_name": "base",
   "language": "python",
   "name": "python3"
  },
  "language_info": {
   "codemirror_mode": {
    "name": "ipython",
    "version": 3
   },
   "file_extension": ".py",
   "mimetype": "text/x-python",
   "name": "python",
   "nbconvert_exporter": "python",
   "pygments_lexer": "ipython3",
   "version": "3.12.7"
  }
 },
 "nbformat": 4,
 "nbformat_minor": 5
}
