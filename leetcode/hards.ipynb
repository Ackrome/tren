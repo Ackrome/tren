{
 "cells": [
  {
   "cell_type": "markdown",
   "id": "eb29c6ba",
   "metadata": {},
   "source": [
    "# 10"
   ]
  },
  {
   "cell_type": "code",
   "execution_count": null,
   "id": "3346562f",
   "metadata": {},
   "outputs": [
    {
     "data": {
      "text/plain": [
       "False"
      ]
     },
     "execution_count": 35,
     "metadata": {},
     "output_type": "execute_result"
    }
   ],
   "source": [
    "class Solution:\n",
    "    def isMatch(self, s: str, p: str) -> bool:\n",
    "        m, n = len(s), len(p)\n",
    "        dp = [[False] * (n + 1) for _ in range(m + 1)]\n",
    "        dp[0][0] = True  # Empty pattern matches empty string\n",
    "        \n",
    "        # Fill first row (case when s is empty)\n",
    "        for j in range(1, n + 1):\n",
    "            if p[j-1] == '*':\n",
    "                dp[0][j] = dp[0][j-2]\n",
    "        \n",
    "        # Fill DP table\n",
    "        for i in range(1, m + 1):\n",
    "            for j in range(1, n + 1):\n",
    "                if p[j-1] == '.' or p[j-1] == s[i-1]:\n",
    "                    dp[i][j] = dp[i-1][j-1]\n",
    "                elif p[j-1] == '*':\n",
    "                    # Check zero occurrence (ignore the previous character and *)\n",
    "                    dp[i][j] = dp[i][j-2]\n",
    "                    # Check if the previous character matches\n",
    "                    if j >= 2 and (p[j-2] == s[i-1] or p[j-2] == '.'):\n",
    "                        dp[i][j] |= dp[i-1][j]\n",
    "        return dp[m][n]\n",
    "    \n",
    "s = \"aaa\"\n",
    "p = \"ab*a\"\n",
    "Solution().isMatch(s=s,p=p)"
   ]
  },
  {
   "cell_type": "markdown",
   "id": "23a0fe13",
   "metadata": {},
   "source": [
    "# 3343"
   ]
  },
  {
   "cell_type": "code",
   "execution_count": null,
   "id": "1a144586",
   "metadata": {},
   "outputs": [
    {
     "data": {
      "text/plain": [
       "39600"
      ]
     },
     "execution_count": 78,
     "metadata": {},
     "output_type": "execute_result"
    }
   ],
   "source": [
    "class Solution(object):\n",
    "    def countBalancedPermutations(self, num):\n",
    "        modulo = 10**9+7\n",
    "        len_s = len(num)\n",
    "        \n",
    "        total = sum(int(c) for c in num)\n",
    "        if total % 2:\n",
    "            return 0\n",
    "        \n",
    "        fact = [1]*(len_s+1)\n",
    "        inv = [1]*(len_s+1)\n",
    "        invFact = [1]*(len_s+1)\n",
    "        \n",
    "        for i in range(1,len_s+1):\n",
    "            fact[i] = fact[i-1]*i % modulo\n",
    "            \n",
    "        for i in range(2,len_s+1):\n",
    "            inv[i] = modulo - (modulo//i)*inv[modulo%i] % modulo\n",
    "            \n",
    "        for i in range(1,len_s+1):\n",
    "            invFact[i] = invFact[i-1]*inv[i] % modulo\n",
    "        \n",
    "        halfSum = total//2\n",
    "        halfLen = len_s//2\n",
    "        dp = [[0]*(halfLen+1) for _ in range(halfSum+1)]\n",
    "        dp[0][0] = 1\n",
    "        digits = [0]*10\n",
    "        \n",
    "        for c in num:\n",
    "            d = int(c)\n",
    "            digits[d] += 1\n",
    "            for i in range(halfSum, d-1, -1):\n",
    "                for j in range(halfLen, 0, -1):\n",
    "                    dp[i][j] = (dp[i][j] + dp[i-d][j-1]) % modulo\n",
    "                    \n",
    "        res = dp[halfSum][halfLen]\n",
    "        res = res * fact[halfLen] % modulo * fact[len_s-halfLen] % modulo\n",
    "        for cnt in digits: res = res * invFact[cnt] % modulo\n",
    "        \n",
    "        return res\n",
    "        \n",
    "\n",
    "num = \"2073365529\"\n",
    "Solution().countBalancedPermutations(num)"
   ]
  },
  {
   "cell_type": "markdown",
   "id": "537e8666",
   "metadata": {},
   "source": [
    "# 3335"
   ]
  },
  {
   "cell_type": "code",
   "execution_count": null,
   "id": "ecdf8935",
   "metadata": {},
   "outputs": [],
   "source": [
    "class Solution:\n",
    "    def lengthAfterTransformations(self, s: str, t: int) -> int:\n",
    "        MOD = 10**9 + 7\n",
    "        counts = [0] * 26\n",
    "        \n",
    "        for c in s:\n",
    "            counts[ord(c) - ord('a')] += 1\n",
    "        \n",
    "        for _ in range(t):\n",
    "            new_counts = [0] * 26\n",
    "            z_count = counts[25]  # Count of 'z'\n",
    "            \n",
    "            new_counts[0] = z_count  # 'z' becomes 'a'\n",
    "            new_counts[1] = (counts[0] + z_count) % MOD  # 'a' becomes 'b' and 'z' becomes 'b'\n",
    "            \n",
    "            for i in range(2, 26):\n",
    "                new_counts[i] = counts[i - 1]  # Shift other characters\n",
    "            \n",
    "            for i in range(26):\n",
    "                new_counts[i] %= MOD\n",
    "            \n",
    "            counts = new_counts\n",
    "        \n",
    "        return sum(counts) % MOD"
   ]
  },
  {
   "cell_type": "markdown",
   "id": "cc9e0961",
   "metadata": {},
   "source": [
    "# 3337"
   ]
  },
  {
   "cell_type": "markdown",
   "id": "78fc6675",
   "metadata": {},
   "source": [
    "работает. Но можно лучше"
   ]
  },
  {
   "cell_type": "code",
   "execution_count": 1,
   "id": "68a75d4e",
   "metadata": {},
   "outputs": [],
   "source": [
    "from typing import List\n",
    "class Solution:\n",
    "    def lengthAfterTransformations(self, s: str, t: int, nums: List[int]) -> int:\n",
    "        MOD = 10**9 + 7\n",
    "        counts = [0] * 26\n",
    "        \n",
    "        for c in s:\n",
    "            counts[ord(c) - ord('a')] += 1\n",
    "        \n",
    "        for _ in range(t):\n",
    "            new_counts = [0] * 26\n",
    "            \n",
    "            \n",
    "\n",
    "            \n",
    "            for i in range(26):\n",
    "                    for j in range(nums[i - 1]):\n",
    "                        new_counts[(i+j) % 26] += counts[i - 1]          \n",
    "            \n",
    "            \n",
    "            for i in range(26):\n",
    "                new_counts[i] %= MOD\n",
    "            \n",
    "            counts = new_counts\n",
    "        \n",
    "        return sum(counts) % MOD\n",
    "assert Solution().lengthAfterTransformations(\"abcyy\",2,[1,1,1,1,1,1,1,1,1,1,1,1,1,1,1,1,1,1,1,1,1,1,1,1,1,2]) == 7\n",
    "assert Solution().lengthAfterTransformations(\"azbk\",1,[2,2,2,2,2,2,2,2,2,2,2,2,2,2,2,2,2,2,2,2,2,2,2,2,2,2]) == 8"
   ]
  },
  {
   "cell_type": "markdown",
   "id": "2ede636f",
   "metadata": {},
   "source": [
    "Должно быть лучше. Расписал [здесь](https://leetcode.com/problems/total-characters-in-string-after-transformations-ii/solutions/6743005/use-matrices-i-beg-you)"
   ]
  },
  {
   "cell_type": "code",
   "execution_count": null,
   "id": "f269cc0a",
   "metadata": {},
   "outputs": [
    {
     "data": {
      "text/plain": [
       "91272833"
      ]
     },
     "execution_count": 1,
     "metadata": {},
     "output_type": "execute_result"
    }
   ],
   "source": [
    "from typing import List\n",
    "class Solution:\n",
    "    def lengthAfterTransformations(self, s: str, t: int, nums: List[int]) -> int:\n",
    "        MOD = 10**9 + 7\n",
    "        counts = [0] * 26\n",
    "        for c in s:\n",
    "            counts[ord(c) - ord('a')] += 1\n",
    "        \n",
    "        # Build transition matrix T\n",
    "        T = [[0] * 26 for _ in range(26)]\n",
    "        \n",
    "        for k in range(26):\n",
    "            L = nums[k]\n",
    "            for x in range(26):\n",
    "                d = (x - k) % 26\n",
    "                if d == 0:\n",
    "                    d = 26\n",
    "                if d > L:\n",
    "                    cnt = 0\n",
    "                else:\n",
    "                    cnt = (L - d) // 26 + 1\n",
    "                T[x][k] = cnt % MOD\n",
    "        \n",
    "        # Matrix exponentiation helper functions\n",
    "        def multiply(A, B):\n",
    "            res = [[0] * 26 for _ in range(26)]\n",
    "            for i in range(26):\n",
    "                for k in range(26):\n",
    "                    if not A[i][k]:\n",
    "                        continue\n",
    "                    for j in range(26):\n",
    "                        res[i][j] = (res[i][j] + A[i][k] * B[k][j]) % MOD\n",
    "            return res\n",
    "        \n",
    "        def matrix_power(mat, power):\n",
    "            result = [[1 if i == j else 0 for j in range(26)] for i in range(26)]\n",
    "            while power > 0:\n",
    "                if power % 2 == 1:\n",
    "                    result = multiply(result, mat)\n",
    "                mat = multiply(mat, mat)\n",
    "                power //= 2\n",
    "            return result\n",
    "        \n",
    "        T_power = matrix_power(T, t)\n",
    "        \n",
    "        # Multiply T_power with counts vector\n",
    "        final = [0] * 26\n",
    "        for i in range(26):\n",
    "            for j in range(26):\n",
    "                final[i] = (final[i] + T_power[i][j] * counts[j]) % MOD\n",
    "        \n",
    "        return sum(final) % MOD\n",
    "    \n",
    "assert Solution().lengthAfterTransformations(\"abcyy\",2,[1,1,1,1,1,1,1,1,1,1,1,1,1,1,1,1,1,1,1,1,1,1,1,1,1,2]) == 7\n",
    "assert Solution().lengthAfterTransformations(\"azbk\",1,[2,2,2,2,2,2,2,2,2,2,2,2,2,2,2,2,2,2,2,2,2,2,2,2,2,2]) == 8"
   ]
  }
 ],
 "metadata": {
  "kernelspec": {
   "display_name": "base",
   "language": "python",
   "name": "python3"
  },
  "language_info": {
   "codemirror_mode": {
    "name": "ipython",
    "version": 3
   },
   "file_extension": ".py",
   "mimetype": "text/x-python",
   "name": "python",
   "nbconvert_exporter": "python",
   "pygments_lexer": "ipython3",
   "version": "3.12.7"
  }
 },
 "nbformat": 4,
 "nbformat_minor": 5
}
