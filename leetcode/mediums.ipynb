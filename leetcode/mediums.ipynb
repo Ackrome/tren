{
 "cells": [
  {
   "cell_type": "markdown",
   "id": "b5557403",
   "metadata": {},
   "source": [
    "# 6"
   ]
  },
  {
   "cell_type": "code",
   "execution_count": 41,
   "id": "c7a4d679",
   "metadata": {},
   "outputs": [
    {
     "data": {
      "text/plain": [
       "'AB'"
      ]
     },
     "execution_count": 41,
     "metadata": {},
     "output_type": "execute_result"
    }
   ],
   "source": [
    "class Solution:\n",
    "    def convert(self, s: str, numRows: int) -> str:\n",
    "        len_s = len(s)\n",
    "\n",
    "        if len_s <= numRows or numRows == 1:\n",
    "            return s\n",
    "        else:\n",
    "            array = []\n",
    "            k=0\n",
    "\n",
    "            symbols_between = numRows - 1\n",
    "            \n",
    "                \n",
    "            while len_s>0:\n",
    "                if k%symbols_between == 0:\n",
    "                    array.append(list(s[:numRows]))\n",
    "                    len_s -= numRows\n",
    "                    s = s[numRows:]\n",
    "                else:\n",
    "                    saray = ['']*numRows\n",
    "                    saray[-k%symbols_between] = s[0]\n",
    "                    array.append(saray)\n",
    "                    len_s -= 1\n",
    "                    s = s[1:]\n",
    "                k+=1\n",
    "\n",
    "            \n",
    "            \n",
    "            res = ['']*numRows\n",
    "            for i in range(numRows):\n",
    "                res[i] = ''.join(array[j][i] for j in range(len(array)) if len(array[j])>=i+1)\n",
    "                \n",
    "            return (''.join(res))\n",
    "            \n",
    "\n",
    "\n",
    "\n",
    "s = \"AB\"\n",
    "numRows = 1\n",
    "Solution().convert(s,numRows)"
   ]
  },
  {
   "cell_type": "code",
   "execution_count": 53,
   "id": "b25cd5e7",
   "metadata": {},
   "outputs": [
    {
     "data": {
      "text/plain": [
       "'PINALSIGYAHRPI'"
      ]
     },
     "execution_count": 53,
     "metadata": {},
     "output_type": "execute_result"
    }
   ],
   "source": [
    "class Solution:\n",
    "    def convert(self, s: str, numRows: int) -> str:\n",
    "        len_s = len(s)\n",
    "\n",
    "        if len_s <= numRows or numRows == 1:\n",
    "            return s\n",
    "        \n",
    "        \n",
    "        cur_index = 0\n",
    "        delta = 1\n",
    "        rows = [[] for i in range(numRows)]\n",
    "        \n",
    "        for bukva in s:\n",
    "            rows[cur_index].append(bukva)\n",
    "            if cur_index == 0:\n",
    "                delta = 1\n",
    "            \n",
    "            elif cur_index == numRows - 1:\n",
    "                delta = -1 \n",
    "            \n",
    "            cur_index += delta\n",
    "        \n",
    "        return ''.join([''.join(rows[i]) for i in range(numRows)])\n",
    "            \n",
    "\n",
    "\n",
    "\n",
    "s = \"PAYPALISHIRING\"\n",
    "numRows = 4\n",
    "Solution().convert(s,numRows)"
   ]
  },
  {
   "cell_type": "markdown",
   "id": "0c446b46",
   "metadata": {},
   "source": [
    "# 7\n"
   ]
  },
  {
   "cell_type": "code",
   "execution_count": null,
   "id": "3a6a7010",
   "metadata": {},
   "outputs": [
    {
     "data": {
      "text/plain": [
       "'21'"
      ]
     },
     "execution_count": 65,
     "metadata": {},
     "output_type": "execute_result"
    }
   ],
   "source": [
    "class Solution:\n",
    "    def reverse(self, x: int) -> int:\n",
    "        strix = str(x)\n",
    "        \n",
    "        if strix[0] == '-':\n",
    "            prefix = '-'\n",
    "            strix = strix [1:]\n",
    "        else:\n",
    "            prefix = ''\n",
    "        \n",
    "        unstrix = strix[::-1]\n",
    "        while unstrix.startswith('0'):\n",
    "            unstrix = unstrix[1:]\n",
    "        \n",
    "        rev = prefix+unstrix\n",
    "        if len(rev):\n",
    "            uns = int(prefix+unstrix)\n",
    "            return uns if uns > - 2 **31 and uns < (2**31 - 1) else 0\n",
    "        else:\n",
    "            return 0\n",
    "        \n",
    "        \n",
    "x = 120\n",
    "Solution().reverse(x)"
   ]
  },
  {
   "cell_type": "markdown",
   "id": "ad25b0ca",
   "metadata": {},
   "source": [
    "# 8"
   ]
  },
  {
   "cell_type": "code",
   "execution_count": null,
   "id": "6d2ef8dc",
   "metadata": {},
   "outputs": [
    {
     "data": {
      "text/plain": [
       "42"
      ]
     },
     "execution_count": 90,
     "metadata": {},
     "output_type": "execute_result"
    }
   ],
   "source": [
    "class Solution:\n",
    "    def myAtoi(self, s: str) -> int:\n",
    "        s = s.strip()\n",
    "        len_s = len(s)\n",
    "        \n",
    "        if not(len_s):\n",
    "            return 0\n",
    "        \n",
    "        if s[0] == '-':\n",
    "            sign = -1\n",
    "            s = s [1:]\n",
    "            len_s += -1\n",
    "        elif s[0] == '+':\n",
    "            sign = 1\n",
    "            s = s [1:]\n",
    "            len_s += -1\n",
    "        else:\n",
    "            sign = 1\n",
    "            \n",
    "        \n",
    "        uns = ''            \n",
    "        for i in range(len_s):\n",
    "            cur = s[i]\n",
    "            try:\n",
    "                int(cur)\n",
    "                uns+=cur\n",
    "                if sign*int(uns) > 2**31 - 1:\n",
    "                    return 2**31 - 1\n",
    "                elif sign*int(uns) < -2**31:\n",
    "                    return -2**31\n",
    "            except:\n",
    "                break\n",
    "    \n",
    "        try:\n",
    "            return sign*int(uns)\n",
    "        except:\n",
    "            return 0\n",
    "        \n",
    "s = \"42\"\n",
    "Solution().myAtoi(s)"
   ]
  },
  {
   "cell_type": "markdown",
   "id": "ae7b94ce",
   "metadata": {},
   "source": [
    "# 2918"
   ]
  },
  {
   "cell_type": "markdown",
   "id": "1685c899",
   "metadata": {},
   "source": [
    "## глупенькое решение"
   ]
  },
  {
   "cell_type": "code",
   "execution_count": 26,
   "id": "376ff1f8",
   "metadata": {},
   "outputs": [
    {
     "data": {
      "text/plain": [
       "257"
      ]
     },
     "execution_count": 26,
     "metadata": {},
     "output_type": "execute_result"
    }
   ],
   "source": [
    "from typing import List\n",
    "\n",
    "class Solution:\n",
    "    def minSum(self, nums1: List[int], nums2: List[int]) -> int:\n",
    "        zeros1 = nums1.count(0)\n",
    "        zeros2 = nums2.count(0)\n",
    "        \n",
    "        sum1 = sum(nums1)\n",
    "        sum2 = sum(nums2)\n",
    "        \n",
    "        if zeros1 == zeros2 == 0 and sum1!=sum2:\n",
    "            return -1\n",
    "        \n",
    "        zeros_indexes_1 = []\n",
    "        zeros_indexes_2 = []\n",
    "        while nums1.count(0):\n",
    "            zeros_indexes_1.append(nums1.index(0))\n",
    "            nums1[zeros_indexes_1[-1]] = 1\n",
    "        \n",
    "        while nums2.count(0):\n",
    "            zeros_indexes_2.append(nums2.index(0))\n",
    "            nums2[zeros_indexes_2[-1]] = 1\n",
    "        \n",
    "        len_zeros_1 = len(zeros_indexes_1)\n",
    "        len_zeros_2 = len(zeros_indexes_2)\n",
    "        idx1 = 0\n",
    "        idx2 = 0\n",
    "        while sum(nums1)!=sum(nums2):\n",
    "            if len_zeros_1 and len_zeros_2:\n",
    "                if sum(nums1)<sum(nums2):\n",
    "                    nums1[zeros_indexes_1[idx1%len_zeros_1]] +=1\n",
    "                    idx1 +=1\n",
    "                else:\n",
    "                    nums2[zeros_indexes_2[idx2%len_zeros_2]] +=1\n",
    "                    idx2 +=1\n",
    "                        \n",
    "                \n",
    "                if sum(nums1)==sum(nums2):\n",
    "                    return sum(nums1)\n",
    "            \n",
    "            elif len_zeros_1:\n",
    "                if sum(nums1)<sum(nums2):\n",
    "                    nums1[zeros_indexes_1[idx1%len_zeros_1]] +=1\n",
    "                    idx1 +=1\n",
    "                else:\n",
    "                    return -1\n",
    "            \n",
    "            elif len_zeros_2:\n",
    "                if sum(nums1)>sum(nums2):\n",
    "                    nums2[zeros_indexes_2[idx2%len_zeros_2]] +=1\n",
    "                    idx2 +=1\n",
    "                else:\n",
    "                    return -1\n",
    "            \n",
    "            else:\n",
    "                return -1\n",
    "        \n",
    "        return sum(nums1) \n",
    "        \n",
    "nums1 = [0,17,20,17,5,0,14,19,7,8,16,18,6]\n",
    "nums2 = [21,1,27,19,2,2,24,21,16,1,13,27,8,5,3,11,13,7,29,7]\n",
    "Solution().minSum(nums1, nums2)"
   ]
  },
  {
   "cell_type": "markdown",
   "id": "2b4f2260",
   "metadata": {},
   "source": [
    "## умненькое решение"
   ]
  },
  {
   "cell_type": "code",
   "execution_count": 40,
   "id": "b53941df",
   "metadata": {},
   "outputs": [
    {
     "data": {
      "text/plain": [
       "174414"
      ]
     },
     "execution_count": 40,
     "metadata": {},
     "output_type": "execute_result"
    }
   ],
   "source": [
    "from typing import List\n",
    "import atexit\n",
    "\n",
    "atexit.register(lambda: open(\"display_runtime.txt\", \"w\").write(\"0\"))\n",
    "\n",
    "class Solution:\n",
    "    def minSum(self, nums1: List[int], nums2: List[int]) -> int:\n",
    "        zeros1 = nums1.count(0)\n",
    "        zeros2 = nums2.count(0)\n",
    "        \n",
    "        sum1 = sum(nums1)\n",
    "        sum2 = sum(nums2)\n",
    "        \n",
    "        if zeros1 == zeros2 == 0:\n",
    "            if sum1==sum2:\n",
    "                return sum1\n",
    "            else:\n",
    "                return -1\n",
    "            \n",
    "        elif zeros1 == 0:\n",
    "            if sum2 + zeros2 <= sum1:\n",
    "                return sum1\n",
    "            else:\n",
    "                return -1\n",
    "        elif zeros2 == 0:\n",
    "            if sum1 + zeros1 <= sum2:\n",
    "                return sum2\n",
    "            else:\n",
    "                return -1\n",
    "\n",
    "        return max(sum1 + zeros1, sum2 + zeros2)\n",
    "        \n",
    "nums1 = [66,333,0,0,0,726,168,248,666,386,837,72,170,622,206,0,540,445,718,0,969,159,246,111,981,496,68,181,675,0,483,24,297,857,969,816,753,697,0,992,0,0,817,0,0,558,0,874,887,791,429,0,27,569,480,224,486,324,582,307,0,214,0,97,675,121,0,352,79,689,539,161,279,0,318,9,193,0,848,891,87,334,760,769,69,607,738,654,978,341,0,0,0,171,744,983,122,125,812,724,217,0,294,835,0,278,0,144,527,591,737,0,889,278,367,127,0,522,120,0,880,470,531,344,13,990,40,581,0,0,0,0,485,0,0,425,0,0,660,718,466,561,507,474,257,664,548,445,877,0,567,126,0,648,581,0,35,630,0,362,0,0,756,148,662,0,248,247,486,393,666,910,0,0,732,296,21,967,246,565,461,878,0,0,705,932,17,0,419,0,0,0,700,153,865,564,349,238,368,911,649,415,0,53,937,277,0,0,435,158,642,0,0,519,0,552,782,982,995,310,120,609,254,219,0,749,502,112,0,837,0,659,163,0,0,352,0,901,125,457,0,0,0,453,48,0,797,262,309,205,281,0,47,60,0,21,446,433,803,237,124,55,301,0,375,524,0,539,353,0,97,685,162,0,389,578,237,7,0,278,923,493,0,0,0,0,0,0,369,799,0,99,0,0,0,246,71,981,933,971,279,238,547,0,11,577,0,0,0,846,731,857,127,458,336,535,0,0,322,0,0,959,8,207,827,447,0,437,948,362,862,923,0,617,416,376,300,993,385,0,785,34,57,50,822,0,125,169,108,37,573,213,0,458,0,842,1,653,349,0,562,933,199,39,0,526,239,0,661,665,706,526,0,0,0,298,0,710,0,244,600,690,651,684,191,931,769,0,462,218,934,381,806,803,375,830,723,746,874,0,208,0,0,975,592,0,180,735,732,11,0,5,0,733,194,406,852,645,748,0,789,214,379,299,2,351,289,107,231,0,231,508,849,0,564,0,575,724,45,770,334,745,617,742,240,556,980,0,979,0,0,793,99,481,0,238,65,102,661,0,645,0,274,905,0,72,956,477,559,685,0,0,100,0,796,190,288,681,710,546,0,827,497,828,627,965,5,0,0,0,835,708,64,0]\n",
    "nums2 = [0,228,717,299,237,0,517,919,0,692,382,0,859,68,923,326,867,449,981,861,600,936,256,247,143,860,0,199,475,368,529,514,236,0,72,650,0,15,556,657,480,24,339,847,470,0,799,0,0,0,0,245,0,0,0,170,137,498,709,970,404,915,0,0,66,748,179,104,0,334,219,97,564,977,0,0,181,0,545,682,692,0,367,740,578,65,0,0,222,886,0,445,976,0,257,254,131,0,30,82,449,806,0,0,616,444,166,534,944,575,369,0,448,985,289,0,879,0,0,0,933,442,608,64,0,818,991,370,519,750,545,0,894,373,0,0,640,228,185,475,0,0,295,0,644,504,0,319,689,646,37,447,530,0]\n",
    "Solution().minSum(nums1, nums2)"
   ]
  },
  {
   "cell_type": "markdown",
   "id": "224e18ab",
   "metadata": {},
   "source": [
    "# 11"
   ]
  },
  {
   "cell_type": "code",
   "execution_count": 53,
   "id": "a3c36736",
   "metadata": {},
   "outputs": [
    {
     "data": {
      "text/plain": [
       "1"
      ]
     },
     "execution_count": 53,
     "metadata": {},
     "output_type": "execute_result"
    }
   ],
   "source": [
    "class Solution:\n",
    "    def maxArea(self, height: List[int]) -> int:\n",
    "        n = len(height)\n",
    "        dp = [[0 for j in range(n)] for i in range(n)]\n",
    "        for i in range(n):\n",
    "            for j in range(n):\n",
    "                dp[i][j] = max(min(height[i], height[j])*abs(i-j), dp[i-1][j], dp[i][j-1])\n",
    "        \n",
    "        \n",
    "        return dp[n-1][n-1]\n",
    "    \n",
    "height = [1,1]\n",
    "Solution().maxArea(height)"
   ]
  },
  {
   "cell_type": "markdown",
   "id": "a6f328cf",
   "metadata": {},
   "source": [
    "аналогичное решение, но с двумя указателями вместо dp"
   ]
  },
  {
   "cell_type": "code",
   "execution_count": null,
   "id": "7aba8db7",
   "metadata": {},
   "outputs": [
    {
     "data": {
      "text/plain": [
       "49"
      ]
     },
     "execution_count": 58,
     "metadata": {},
     "output_type": "execute_result"
    }
   ],
   "source": [
    "class Solution:\n",
    "    def maxArea(self, height: List[int]) -> int:\n",
    "        area = 0\n",
    "        left = 0\n",
    "        right = len(height) - 1\n",
    "\n",
    "        while left < right:\n",
    "            area = max(area, (right - left) * min(height[left], height[right]))\n",
    "\n",
    "            if height[left] < height[right]:\n",
    "                left += 1\n",
    "            else:\n",
    "                right -= 1\n",
    "        \n",
    "        return area\n",
    "    \n",
    "height = [1,8,6,2,5,4,8,3,7]\n",
    "Solution().maxArea(height)"
   ]
  },
  {
   "cell_type": "markdown",
   "id": "f1eefce6",
   "metadata": {},
   "source": [
    "# 12"
   ]
  },
  {
   "cell_type": "code",
   "execution_count": 76,
   "id": "2ec21576",
   "metadata": {},
   "outputs": [
    {
     "data": {
      "text/plain": [
       "'X'"
      ]
     },
     "execution_count": 76,
     "metadata": {},
     "output_type": "execute_result"
    }
   ],
   "source": [
    "class Solution:\n",
    "    def intToRoman(self, num: int) -> str:\n",
    "        res = ''\n",
    "        M = num//1000\n",
    "        res += 'M'*M\n",
    "        \n",
    "        res += self.RomanNumerals(num//100%10, 'C','D','M')\n",
    "        res += self.RomanNumerals(num//10%10, 'X','L','C')\n",
    "        res += self.RomanNumerals(num%10, 'I','V','X')\n",
    "\n",
    "        return res\n",
    "    \n",
    "    def RomanNumerals(self, number, main, halfmore, more):\n",
    "        if number < 4:\n",
    "            return main*number\n",
    "        elif number == 4:\n",
    "            return main + halfmore\n",
    "        elif  9 > number >= 5:\n",
    "            return halfmore + main*(number-5)\n",
    "        else:\n",
    "            return main + more\n",
    "        \n",
    "        \n",
    "        \n",
    "        \n",
    "        \n",
    "num = 10\n",
    "Solution().intToRoman(num)"
   ]
  },
  {
   "cell_type": "markdown",
   "id": "15314e00",
   "metadata": {},
   "source": [
    "# 15"
   ]
  },
  {
   "cell_type": "code",
   "execution_count": null,
   "id": "4a1e5521",
   "metadata": {},
   "outputs": [],
   "source": [
    "from typing import List\n",
    "\n",
    "class Solution:\n",
    "    def threeSum(self, nums: List[int]) -> List[List[int]]:\n",
    "        n = len(nums)\n",
    "        nums = sorted(nums)\n",
    "        threesome = list()\n",
    "        \n",
    "        for i in range(n - 2):\n",
    "            if i > 0 and nums[i] == nums[i - 1]:\n",
    "                continue\n",
    "            \n",
    "            left, right = i + 1, n - 1\n",
    "            while left < right:\n",
    "                current_sum = nums[i] + nums[left] + nums[right]\n",
    "                \n",
    "                if current_sum == 0:\n",
    "                    threesome.append([nums[i], nums[left], nums[right]])\n",
    "                    # Пропуск дубликатов для left\n",
    "                    while left < right and nums[left] == nums[left + 1]:\n",
    "                        left += 1\n",
    "                    # Пропуск дубликатов для right\n",
    "                    while left < right and nums[right] == nums[right - 1]:\n",
    "                        right -= 1\n",
    "                    left += 1\n",
    "                    right -= 1\n",
    "                elif current_sum < 0:\n",
    "                    left += 1\n",
    "                else:\n",
    "                    right -= 1\n",
    "        \n",
    "        return threesome\n",
    "    \n",
    "assert Solution().threeSum([-1,0,1,2,-1,-4]) == [[-1, -1, 2], [-1, 0, 1]]\n",
    "assert Solution().threeSum([0,1,1]) == []\n",
    "assert Solution().threeSum([0,0,0]) == [[0, 0, 0]]\n",
    "assert Solution().threeSum([0,0,0,0]) == [[0, 0, 0]]\n",
    "assert Solution().threeSum([1,2,-2,-1]) == []\n",
    "assert Solution().threeSum([-1,0,1,0]) == [[-1,0,1]]"
   ]
  },
  {
   "cell_type": "markdown",
   "id": "4ef4f72b",
   "metadata": {},
   "source": [
    "# 16"
   ]
  },
  {
   "cell_type": "code",
   "execution_count": 6,
   "id": "85d28878",
   "metadata": {},
   "outputs": [],
   "source": [
    "from typing import List\n",
    "class Solution:\n",
    "    def threeSumClosest(self, nums: List[int], target: int) -> int:\n",
    "        n = len(nums)\n",
    "        nums = sorted(nums)\n",
    "        closest = float('inf')\n",
    "        mind = float('inf')\n",
    "\n",
    "        for i in range(n - 2):\n",
    "            left, right = i + 1, n - 1\n",
    "            while left < right:\n",
    "                current_sum = nums[i] + nums[left] + nums[right]\n",
    "                cur_diff = abs(target - current_sum)\n",
    "                \n",
    "                if cur_diff < mind: \n",
    "                    mind = cur_diff\n",
    "                    closest = current_sum\n",
    "\n",
    "                if current_sum < target:\n",
    "                    left += 1\n",
    "                else:\n",
    "                    right -= 1\n",
    "\n",
    "        return closest\n",
    "      \n",
    "      \n",
    "assert Solution().threeSumClosest([-1,2,1,-4], 1) == 2\n",
    "assert Solution().threeSumClosest([0,0,0], 1) == 0\n",
    "assert Solution().threeSumClosest([1,1,1,0], -100) == 2\n",
    "assert Solution().threeSumClosest([-84,92,26,19,-7,9,42,-51,8,30,-100,-13,-38], 78) == 77"
   ]
  },
  {
   "cell_type": "markdown",
   "id": "afa54127",
   "metadata": {},
   "source": [
    "# 17"
   ]
  },
  {
   "cell_type": "code",
   "execution_count": 21,
   "id": "5ef19cb1",
   "metadata": {},
   "outputs": [
    {
     "data": {
      "text/plain": [
       "[]"
      ]
     },
     "execution_count": 21,
     "metadata": {},
     "output_type": "execute_result"
    }
   ],
   "source": [
    "from typing import List\n",
    "from itertools import product\n",
    "class Solution:\n",
    "    def letterCombinations(self, digits: str) -> List[str]:\n",
    "        perevodict = {\n",
    "            '2': 'abc',\n",
    "            '3': 'def',\n",
    "            '4': 'ghi',\n",
    "            '5': 'jkl',\n",
    "            '6': 'mno',\n",
    "            '7': 'pqrs',\n",
    "            '8': 'tuv',\n",
    "            '9': 'wxyz'\n",
    "        }\n",
    "        \n",
    "        n = len(digits)\n",
    "        \n",
    "        if n:\n",
    "            pers = list(map(perevodict.get,digits))\n",
    "            return list(map(lambda x: ''.join(x), product(*pers)))\n",
    "        else:\n",
    "            return []\n",
    "\n",
    "Solution().letterCombinations(\"\")"
   ]
  }
 ],
 "metadata": {
  "kernelspec": {
   "display_name": "base",
   "language": "python",
   "name": "python3"
  },
  "language_info": {
   "codemirror_mode": {
    "name": "ipython",
    "version": 3
   },
   "file_extension": ".py",
   "mimetype": "text/x-python",
   "name": "python",
   "nbconvert_exporter": "python",
   "pygments_lexer": "ipython3",
   "version": "3.12.7"
  }
 },
 "nbformat": 4,
 "nbformat_minor": 5
}
