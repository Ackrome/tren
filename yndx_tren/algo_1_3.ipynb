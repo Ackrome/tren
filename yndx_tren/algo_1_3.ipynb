{
 "cells": [
  {
   "cell_type": "markdown",
   "metadata": {},
   "source": [
    "# Яндекс. Тренировки по алгоритмам июнь 2021, занятие 3"
   ]
  },
  {
   "cell_type": "markdown",
   "metadata": {},
   "source": [
    "## A. Количество различных чисел"
   ]
  },
  {
   "cell_type": "code",
   "execution_count": 2,
   "metadata": {},
   "outputs": [
    {
     "name": "stdout",
     "output_type": "stream",
     "text": [
      "10\n"
     ]
    }
   ],
   "source": [
    "print(len(set(input().split())))"
   ]
  },
  {
   "cell_type": "markdown",
   "metadata": {},
   "source": [
    "## B. Пересечение множеств"
   ]
  },
  {
   "cell_type": "code",
   "execution_count": null,
   "metadata": {},
   "outputs": [
    {
     "name": "stdout",
     "output_type": "stream",
     "text": [
      "10 11 14 17 18 19 2 21 22 23 24 25 27 28 30 35 36 39 43 48 5 51 52 54 55 57 6 61 66 67 68 69 7 70 71 72 73 75 77 78 82 83 84 86 95\n"
     ]
    }
   ],
   "source": [
    "print(*sorted(list(set(map(int,input().split())) & set(map(int,input().split())))))"
   ]
  },
  {
   "cell_type": "markdown",
   "metadata": {},
   "source": [
    "## C. Кубики"
   ]
  },
  {
   "cell_type": "code",
   "execution_count": null,
   "metadata": {},
   "outputs": [],
   "source": [
    "n,m = list(map(int, input().split()))\n",
    "anya = []\n",
    "borya = []\n",
    "for i in range(n):\n",
    "    anya.append(int(input()))\n",
    "for i in range(m):\n",
    "    borya.append(int(input()))\n",
    "\n",
    "two = sorted(list(set(anya) & set(borya)))\n",
    "print(len(two))\n",
    "print(*two) if len(two) else print()\n",
    "\n",
    "an = sorted(list(set(anya) - set(borya)))\n",
    "print(len(an))\n",
    "print(*an) if len(an) else print()\n",
    "\n",
    "bor = sorted(list(set(borya) - set(anya)))\n",
    "print(len(bor))\n",
    "print(*bor) if len(bor) else print()"
   ]
  },
  {
   "cell_type": "markdown",
   "metadata": {},
   "source": [
    "## D. Количество слов в тексте"
   ]
  },
  {
   "cell_type": "code",
   "execution_count": null,
   "metadata": {},
   "outputs": [],
   "source": [
    "import sys\n",
    "print(len(set(sys.stdin.read().strip().split())))"
   ]
  },
  {
   "cell_type": "markdown",
   "metadata": {},
   "source": [
    "## E. OpenCalculator"
   ]
  },
  {
   "cell_type": "code",
   "execution_count": null,
   "metadata": {},
   "outputs": [],
   "source": []
  }
 ],
 "metadata": {
  "kernelspec": {
   "display_name": "base",
   "language": "python",
   "name": "python3"
  },
  "language_info": {
   "codemirror_mode": {
    "name": "ipython",
    "version": 3
   },
   "file_extension": ".py",
   "mimetype": "text/x-python",
   "name": "python",
   "nbconvert_exporter": "python",
   "pygments_lexer": "ipython3",
   "version": "3.12.7"
  }
 },
 "nbformat": 4,
 "nbformat_minor": 2
}
