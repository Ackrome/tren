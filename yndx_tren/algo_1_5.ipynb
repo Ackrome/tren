{
 "cells": [
  {
   "cell_type": "markdown",
   "metadata": {},
   "source": [
    "A"
   ]
  },
  {
   "cell_type": "code",
   "execution_count": null,
   "metadata": {},
   "outputs": [],
   "source": [
    "try:\n",
    "    with open('input.txt', 'r') as f:\n",
    "        text = f.read().split('\\n')\n",
    "except FileNotFoundError:\n",
    "    text = input().split('\\n')\n",
    "\n",
    "n = sorted(list(map(int,text[1].split())))\n",
    "m = sorted(list(map(int,text[3].split())))\n",
    "\n",
    "min_dif = float('inf')\n",
    "i,j = 0,0\n",
    "cur_i,cur_j = None,None\n",
    "\n",
    "while i<int(text[0]) and j < int(text[2]):\n",
    "    a = n[i]\n",
    "    b = m[j]\n",
    "    if abs(a - b) < min_dif:\n",
    "        min_dif = abs(a - b)\n",
    "        cur_i,cur_j = a, b\n",
    "        if min_dif == 0:\n",
    "            break # можно сразу выходить, так как меньше не бывает\n",
    "    if a < b:\n",
    "        i += 1\n",
    "    else:\n",
    "        j += 1\n",
    "\n",
    "output = f'{cur_i} {cur_j}'\n",
    "try:\n",
    "    with open('output.txt', 'w') as f:\n",
    "        f.write(output)\n",
    "except:\n",
    "    print(output)"
   ]
  },
  {
   "cell_type": "markdown",
   "metadata": {},
   "source": [
    "B"
   ]
  },
  {
   "cell_type": "code",
   "execution_count": 42,
   "metadata": {},
   "outputs": [],
   "source": [
    "try:\n",
    "    with open('input.txt', 'r') as f:\n",
    "        text = f.read().split('\\n')\n",
    "except FileNotFoundError:\n",
    "    text = input().split('\\n')\n",
    "\n",
    "n,k = map(int,text[0].split())\n",
    "arr = list(map(int,text[1].split()))\n",
    "count = 0\n",
    "\n",
    "pref = [0] * (n + 1)\n",
    "for i in range(1, n + 1):\n",
    "    pref[i] = pref[i - 1] + arr[i - 1]\n",
    "\n",
    "i = 0\n",
    "j = 0\n",
    "while i < n:\n",
    "    if (pref[i + 1] - pref[j]) == k:\n",
    "        count+=1\n",
    "        j+=1\n",
    "    elif (pref[i + 1] - pref[j])>k:\n",
    "        j+=1\n",
    "    else:\n",
    "        i+=1\n",
    "\n",
    "output = f'{count}'\n",
    "try:\n",
    "    with open('output.txt', 'w') as f:\n",
    "        f.write(output)\n",
    "except:\n",
    "    print(output)"
   ]
  },
  {
   "cell_type": "markdown",
   "metadata": {},
   "source": [
    "С"
   ]
  },
  {
   "cell_type": "code",
   "execution_count": 60,
   "metadata": {},
   "outputs": [
    {
     "name": "stdout",
     "output_type": "stream",
     "text": [
      "[[5, 6], [1, 4], [4, 2]]\n",
      "[[1, 1], [3, 2], [5, 6], [7, 2], [10, 4], [11, 1]]\n",
      "[0, 1, 4, 9, 16, 26, 37]\n"
     ]
    }
   ],
   "source": [
    "try:\n",
    "    with open('input.txt', 'r') as f:\n",
    "        text = f.read().split('\\n')\n",
    "except FileNotFoundError:\n",
    "    text = input().split('\\n')\n",
    "\n",
    "n = int(text[0])\n",
    "arr = list(map(lambda x: list(map(int, x.split())), text[1:n+1]))\n",
    "m = int(text[n+1])\n",
    "routes = list(map(lambda x: list(map(int, x.split())), text[n+2:-1]))\n",
    "\n",
    "print(routes)\n",
    "count = 0\n",
    "arr_x_sort = (arr)\n",
    "arr_y_sort = (sorted(arr, key = lambda x : x[1]))\n",
    "\n",
    "print(arr_x_sort)\n",
    "\n",
    "pref = [0] * (n + 1)\n",
    "for i in range(1, n + 1):\n",
    "    pref[i] = pref[i - 1] + arr_x_sort[i - 1][0]\n",
    "\n",
    "print(pref)\n",
    "i = 0\n",
    "j = 0\n",
    "while i < n:\n",
    "    if (pref[i + 1] - pref[j]) == k:\n",
    "        count+=1\n",
    "        j+=1\n",
    "    elif (pref[i + 1] - pref[j])>k:\n",
    "        j+=1\n",
    "    else:\n",
    "        i+=1\n",
    "\n",
    "output = f'{count}'\n",
    "try:\n",
    "    with open('output.txt', 'w') as f:\n",
    "        f.write(output)\n",
    "except:\n",
    "    print(output)"
   ]
  },
  {
   "cell_type": "code",
   "execution_count": 1,
   "metadata": {},
   "outputs": [
    {
     "name": "stdout",
     "output_type": "stream",
     "text": [
      "       Структуры данных       : Стек через связный список;\n",
      "                                Двусвязнйы список;\n",
      "                                Цикличный двусвязный список;\n",
      "                                Дерево;\n",
      "                                Бинарное дерево;\n",
      "                                Хэш-таблица методом цеполк (когда данные с одинаковыми ключами хранятся в виде списка);\n",
      "                                Хэш-таблица методом открытой адресации;\n",
      "                                Двоичная куча;\n",
      "                                Базовый декоратор;\n",
      "                                Очередь с приоритетом;\n",
      "                                Очередь через двусвязный список;\n",
      "                                \n",
      "     Алгоритмы сортировки     : Быстрая сортировка;\n",
      "                                Сортировка выбором;\n",
      "                                Сортировка вставками;\n",
      "                                Сортировка пузырьком;\n",
      "                                Бинарный поиск;\n",
      "                                Шейкерная сортировка;\n",
      "                                Алгоритм расческой;\n",
      "                                Сортировка слиянием;\n",
      "                                Сортировка Шелла;\n",
      "                                \n",
      "    Дополнительные функции    : Функция двойного хэширования;\n",
      "                                Функция для нахождения первого четного элемента в стеке;\n",
      "                                Альтернативная функция для нахождения первого четного элемента в стеке;\n",
      "                                Функция для добавления нового элемента в стек после первого нечетного элемента;\n",
      "                                Функция для проверки сбалансированности скобок в математическом выражении;\n",
      "                                Функция для вычисления математических выражений в обратной польской нотации;\n",
      "                                Функция для нахождения первого нечетного элемента очереди;\n",
      "                                Функция для добавления нового элемента в очередь перед первым четным элементом;\n",
      "                                Альтернативная функция для добавления нового элемента в очередь перед первым четным элементом;\n",
      "                                Функция для удвоения каждого четного элемента двусвязного списка;\n",
      "                                Функция для удаления всех отрицательных элементов из двусвязного списка;\n",
      "                                Функция, возводящая в квадрат все отрицательные элементы в циклическом двусвязном списке;\n",
      "                                Функция для удаления всех элементов из циклического двусвязного списка, кратных 5;\n",
      "                                Функция для создания случайного дерева заданной глубины (каждый узел имеет два дочерних узла);\n",
      "                                Функция для замены каждого числа в дереве на сумму чисел всех его потомков;\n",
      "                                Функция, удваивающая каждое нечетное число в дереве;\n",
      "                                Функция для определения листьев дерева;\n",
      "                                Функция для нахождения количества узлов в бинарном дереве;\n",
      "                                Функция для нахождения всех узлов, которые являются родительскими для заданного узла в бинарном дереве;\n",
      "                                Функция для нахождения всех узлов, которые имеют значение больше или равно заданному значению в бинарном дереве;\n",
      "                                Функция для нахождения наиболее часто встречающегося значения в хеш-таблице (по полю species);\n",
      "                                \n",
      "Вывести функцию буфера обмена : enable_ppc;\n",
      "                                \n",
      "\n"
     ]
    }
   ],
   "source": [
    "from matplobblib.aisd import *\n",
    "\n",
    "description()"
   ]
  }
 ],
 "metadata": {
  "kernelspec": {
   "display_name": "base",
   "language": "python",
   "name": "python3"
  },
  "language_info": {
   "codemirror_mode": {
    "name": "ipython",
    "version": 3
   },
   "file_extension": ".py",
   "mimetype": "text/x-python",
   "name": "python",
   "nbconvert_exporter": "python",
   "pygments_lexer": "ipython3",
   "version": "3.12.7"
  }
 },
 "nbformat": 4,
 "nbformat_minor": 2
}
